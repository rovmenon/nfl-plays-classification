{
 "cells": [
  {
   "cell_type": "code",
   "execution_count": 1,
   "id": "ed28f182",
   "metadata": {},
   "outputs": [
    {
     "name": "stderr",
     "output_type": "stream",
     "text": [
      "<ipython-input-1-10ea2fe33626>:11: DeprecationWarning: The default dtype for empty Series will be 'object' instead of 'float64' in a future version. Specify a dtype explicitly to silence this warning.\n",
      "  time_series = pd.Series()\n",
      "<ipython-input-1-10ea2fe33626>:13: SettingWithCopyWarning: \n",
      "A value is trying to be set on a copy of a slice from a DataFrame.\n",
      "Try using .loc[row_indexer,col_indexer] = value instead\n",
      "\n",
      "See the caveats in the documentation: https://pandas.pydata.org/pandas-docs/stable/user_guide/indexing.html#returning-a-view-versus-a-copy\n",
      "  nfl_df[\"Time Left\"] = time_series\n",
      "<ipython-input-1-10ea2fe33626>:17: SettingWithCopyWarning: \n",
      "A value is trying to be set on a copy of a slice from a DataFrame\n",
      "\n",
      "See the caveats in the documentation: https://pandas.pydata.org/pandas-docs/stable/user_guide/indexing.html#returning-a-view-versus-a-copy\n",
      "  nfl_df[\"Time Left\"][i] = nfl_df['Minute'][i] * 60 + nfl_df['Second'][i]\n",
      "/Users/hasankhan/opt/anaconda3/lib/python3.8/site-packages/IPython/core/interactiveshell.py:3437: SettingWithCopyWarning: \n",
      "A value is trying to be set on a copy of a slice from a DataFrame\n",
      "\n",
      "See the caveats in the documentation: https://pandas.pydata.org/pandas-docs/stable/user_guide/indexing.html#returning-a-view-versus-a-copy\n",
      "  exec(code_obj, self.user_global_ns, self.user_ns)\n",
      "<ipython-input-1-10ea2fe33626>:19: SettingWithCopyWarning: \n",
      "A value is trying to be set on a copy of a slice from a DataFrame\n",
      "\n",
      "See the caveats in the documentation: https://pandas.pydata.org/pandas-docs/stable/user_guide/indexing.html#returning-a-view-versus-a-copy\n",
      "  nfl_df[\"Time Left\"][i] = 15*60 + nfl_df['Minute'][i] * 60 + nfl_df['Second'][i]\n",
      "<ipython-input-1-10ea2fe33626>:36: UserWarning: Boolean Series key will be reindexed to match DataFrame index.\n",
      "  nfl_df = nfl_df[remove_plays_1]\n",
      "<ipython-input-1-10ea2fe33626>:37: UserWarning: Boolean Series key will be reindexed to match DataFrame index.\n",
      "  nfl_df = nfl_df[remove_plays_2]\n",
      "<ipython-input-1-10ea2fe33626>:38: UserWarning: Boolean Series key will be reindexed to match DataFrame index.\n",
      "  nfl_df = nfl_df[remove_plays_3]\n",
      "<ipython-input-1-10ea2fe33626>:39: UserWarning: Boolean Series key will be reindexed to match DataFrame index.\n",
      "  nfl_df = nfl_df[remove_plays_4]\n",
      "<ipython-input-1-10ea2fe33626>:40: UserWarning: Boolean Series key will be reindexed to match DataFrame index.\n",
      "  nfl_df = nfl_df[remove_plays_5]\n",
      "<ipython-input-1-10ea2fe33626>:41: UserWarning: Boolean Series key will be reindexed to match DataFrame index.\n",
      "  nfl_df = nfl_df[remove_plays_6]\n",
      "<ipython-input-1-10ea2fe33626>:42: UserWarning: Boolean Series key will be reindexed to match DataFrame index.\n",
      "  nfl_df = nfl_df[remove_plays_7]\n",
      "<ipython-input-1-10ea2fe33626>:43: UserWarning: Boolean Series key will be reindexed to match DataFrame index.\n",
      "  nfl_df = nfl_df[remove_plays_8]\n",
      "<ipython-input-1-10ea2fe33626>:44: UserWarning: Boolean Series key will be reindexed to match DataFrame index.\n",
      "  nfl_df = nfl_df[remove_plays_9]\n",
      "<ipython-input-1-10ea2fe33626>:45: UserWarning: Boolean Series key will be reindexed to match DataFrame index.\n",
      "  nfl_df = nfl_df[remove_plays_10]\n",
      "<ipython-input-1-10ea2fe33626>:46: UserWarning: Boolean Series key will be reindexed to match DataFrame index.\n",
      "  nfl_df = nfl_df[remove_plays_11]\n",
      "<ipython-input-1-10ea2fe33626>:47: UserWarning: Boolean Series key will be reindexed to match DataFrame index.\n",
      "  nfl_df = nfl_df[remove_plays_12]\n"
     ]
    },
    {
     "data": {
      "text/plain": [
       "PASS    20075\n",
       "RUSH    12537\n",
       "Name: PlayType, dtype: int64"
      ]
     },
     "execution_count": 1,
     "metadata": {},
     "output_type": "execute_result"
    }
   ],
   "source": [
    "import pandas as pd\n",
    "df = pd.read_csv(\"pbp-2020.csv\")\n",
    "\n",
    "nfl_df= df[['GameId', 'GameDate', 'Quarter', 'Minute', 'Second',\n",
    "           'OffenseTeam', 'DefenseTeam', 'Down', 'ToGo', 'YardLine',\n",
    "           'Yards', 'Formation', 'PlayType', 'IsRush', 'IsPass',\n",
    "           'IsIncomplete', 'IsTouchdown', 'PassType', 'IsSack',\n",
    "           'IsInterception', 'IsFumble', 'IsPenalty', 'IsTwoPointConversion',\n",
    "           'RushDirection']]\n",
    "\n",
    "time_series = pd.Series()\n",
    "\n",
    "nfl_df[\"Time Left\"] = time_series\n",
    "\n",
    "for i in range(len(nfl_df)):\n",
    "    if nfl_df[\"Quarter\"][i] == 2  or nfl_df[\"Quarter\"][i] ==4:\n",
    "        nfl_df[\"Time Left\"][i] = nfl_df['Minute'][i] * 60 + nfl_df['Second'][i]\n",
    "    else:\n",
    "        nfl_df[\"Time Left\"][i] = 15*60 + nfl_df['Minute'][i] * 60 + nfl_df['Second'][i]\n",
    "\n",
    "remove_plays = nfl_df[\"PlayType\"] != \"FUMBLES\" \n",
    "remove_plays_1= nfl_df[\"PlayType\"] != \"CLOCK STOP\"\n",
    "remove_plays_2 = nfl_df[\"PlayType\"] != \"EXCEPTION\" \n",
    "remove_plays_3 = nfl_df[\"PlayType\"] != \"KICK OFF\" \n",
    "remove_plays_4 = nfl_df[\"PlayType\"] != \"NO PLAY\"  \n",
    "remove_plays_5 = nfl_df[\"PlayType\"] != \"PENALTY\" \n",
    "remove_plays_6 = nfl_df[\"PlayType\"] != \"QB KNEEL\" \n",
    "remove_plays_7 = nfl_df[\"PlayType\"] != \"TIMEOUT\"\n",
    "remove_plays_8 = nfl_df[\"PlayType\"] != \"EXTRA POINT\"\n",
    "remove_plays_9 = nfl_df[\"PlayType\"] != \"TWO-POINT CONVERSION\"\n",
    "remove_plays_10 = nfl_df[\"PlayType\"] != \"FIELD GOAL\"\n",
    "remove_plays_11 = nfl_df[\"PlayType\"] != \"PUNT\"\n",
    "remove_plays_12 = nfl_df[\"PlayType\"] != \"SCRAMBLE\"\n",
    "\n",
    "nfl_df = nfl_df[remove_plays]\n",
    "nfl_df = nfl_df[remove_plays_1]\n",
    "nfl_df = nfl_df[remove_plays_2]\n",
    "nfl_df = nfl_df[remove_plays_3]\n",
    "nfl_df = nfl_df[remove_plays_4]\n",
    "nfl_df = nfl_df[remove_plays_5]\n",
    "nfl_df = nfl_df[remove_plays_6]\n",
    "nfl_df = nfl_df[remove_plays_7]\n",
    "nfl_df = nfl_df[remove_plays_8]\n",
    "nfl_df = nfl_df[remove_plays_9]\n",
    "nfl_df = nfl_df[remove_plays_10]\n",
    "nfl_df = nfl_df[remove_plays_11]\n",
    "nfl_df = nfl_df[remove_plays_12]\n",
    "\n",
    "nfl_df = nfl_df[nfl_df[\"PlayType\"].notna()]\n",
    "# nfl_df[\"PlayType\"].value_counts()\n",
    "\n",
    "sack_pass = {\"SACK\": \"PASS\", \"PASS\": \"PASS\", \"RUSH\": \"RUSH\"}\n",
    "nfl_df[\"PlayType\"] = nfl_df[\"PlayType\"].map(sack_pass)\n",
    "nfl_df[\"PlayType\"].value_counts()"
   ]
  },
  {
   "cell_type": "code",
   "execution_count": 2,
   "id": "42e4bc28",
   "metadata": {},
   "outputs": [],
   "source": [
    "nfl_df.to_csv(\"nfl_clean.csv\")"
   ]
  },
  {
   "cell_type": "code",
   "execution_count": null,
   "id": "d87c2184",
   "metadata": {},
   "outputs": [],
   "source": []
  },
  {
   "cell_type": "code",
   "execution_count": null,
   "id": "d1dcfac5",
   "metadata": {},
   "outputs": [],
   "source": []
  }
 ],
 "metadata": {
  "kernelspec": {
   "display_name": "Python 3",
   "language": "python",
   "name": "python3"
  },
  "language_info": {
   "codemirror_mode": {
    "name": "ipython",
    "version": 3
   },
   "file_extension": ".py",
   "mimetype": "text/x-python",
   "name": "python",
   "nbconvert_exporter": "python",
   "pygments_lexer": "ipython3",
   "version": "3.8.8"
  }
 },
 "nbformat": 4,
 "nbformat_minor": 5
}
